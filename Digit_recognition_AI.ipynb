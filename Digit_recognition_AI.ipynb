{
 "cells": [
  {
   "cell_type": "code",
   "execution_count": 1,
   "id": "9f3be8a2",
   "metadata": {},
   "outputs": [
    {
     "name": "stderr",
     "output_type": "stream",
     "text": [
      "/Users/rajivbhandari/opt/anaconda3/lib/python3.9/site-packages/scipy/__init__.py:146: UserWarning: A NumPy version >=1.16.5 and <1.23.0 is required for this version of SciPy (detected version 1.23.5\n",
      "  warnings.warn(f\"A NumPy version >={np_minversion} and <{np_maxversion}\"\n"
     ]
    }
   ],
   "source": [
    "# Import necessary libraries\n",
    "from sklearn.datasets import fetch_openml\n",
    "import matplotlib\n",
    "import matplotlib.pyplot as plt\n",
    "import numpy as np\n",
    "from sklearn.linear_model import LogisticRegression\n",
    "from sklearn.model_selection import cross_val_score\n",
    "from sklearn.model_selection import cross_val_predict\n",
    "from sklearn.metrics import confusion_matrix\n",
    "import seaborn as sns"
   ]
  },
  {
   "cell_type": "code",
   "execution_count": 2,
   "id": "bdf87e3a-8e30-4458-9355-a69b2448a61c",
   "metadata": {},
   "outputs": [],
   "source": [
    "# Load the MNIST dataset\n",
    "mnist = fetch_openml('mnist_784')"
   ]
  },
  {
   "cell_type": "code",
   "execution_count": 3,
   "id": "dac2ef33-e010-4efc-9804-1070ba91afd7",
   "metadata": {},
   "outputs": [
    {
     "name": "stdout",
     "output_type": "stream",
     "text": [
      "Total number of samples in the MNIST dataset: 70000\n"
     ]
    }
   ],
   "source": [
    "# Get the total number of samples in the MNIST dataset\n",
    "total_length = len(mnist.data)\n",
    "\n",
    "print(\"Total number of samples in the MNIST dataset:\", total_length)"
   ]
  },
  {
   "cell_type": "code",
   "execution_count": 4,
   "id": "fe3b03c5-71b2-4f49-b050-f16d86c1b43d",
   "metadata": {},
   "outputs": [],
   "source": [
    "# Extract features (x) and labels (y) from the dataset\n",
    "x, y = mnist['data'], mnist['target']"
   ]
  },
  {
   "cell_type": "code",
   "execution_count": 5,
   "id": "44da5957-af09-4b1a-81a5-1f9fc42a3d15",
   "metadata": {},
   "outputs": [],
   "source": [
    "# Check for missing values in the features (x) for data cleaning \n",
    "missing_values = x.isnull().sum().sum()\n",
    "\n",
    "# Handle missing values (if any)\n",
    "if missing_values > 0:\n",
    "    # Drop rows with missing values\n",
    "    x = x.dropna(axis=0)\n",
    "    y = y[x.index]  # Adjust labels accordingly"
   ]
  },
  {
   "cell_type": "code",
   "execution_count": 6,
   "id": "c2a4e03f-c758-496e-9b54-f0c4c2cd5c24",
   "metadata": {},
   "outputs": [],
   "source": [
    "# Visualize a digit from the dataset\n",
    "some_digit = x.to_numpy()[49566]\n",
    "some_digit_image = some_digit.reshape(28, 28)  # let's reshape to plot it"
   ]
  },
  {
   "cell_type": "code",
   "execution_count": 7,
   "id": "99a608bc-0349-46dc-99d2-98451fa9332f",
   "metadata": {},
   "outputs": [
    {
     "data": {
      "image/png": "[encoded data removed]",
      "text/plain": [
       "<Figure size 640x480 with 1 Axes>"
      ]
     },
     "metadata": {},
     "output_type": "display_data"
    }
   ],
   "source": [
    "# Display the digit\n",
    "plt.imshow(some_digit_image, cmap=matplotlib.cm.binary,\n",
    "           interpolation='nearest')\n",
    "plt.axis(\"off\")\n",
    "plt.show()"
   ]
  },
  {
   "cell_type": "code",
   "execution_count": 8,
   "id": "b83b1b90-ced9-4a69-9414-69d88201e273",
   "metadata": {},
   "outputs": [],
   "source": [
    "# Split the data into training and testing sets\n",
    "#60,000 data for training and 10,000 for testing \n",
    "x_train, x_test = x[:60000], x[6000:70000]\n",
    "y_train, y_test = y[:60000], y[6000:70000]"
   ]
  },
  {
   "cell_type": "code",
   "execution_count": 9,
   "id": "abd7fdfa-2e9f-4336-9b86-7f242b85455d",
   "metadata": {},
   "outputs": [],
   "source": [
    "# Shuffle the training data\n",
    "#Shuffling the training data to ensure that the model does not learn patterns specific to the order of the data\n",
    "shuffle_index = np.random.permutation(60000)\n",
    "x_train, y_train = x_train.to_numpy()[shuffle_index], y_train.to_numpy()[shuffle_index]"
   ]
  },
  {
   "cell_type": "code",
   "execution_count": 10,
   "id": "6b7e2847-7b7e-4526-ac02-73ee7fdf9797",
   "metadata": {},
   "outputs": [],
   "source": [
    "# Creating a binary classifier for detecting digit '2'\n",
    "y_train = y_train.astype(np.int8) #Converts the training labels to integers\n",
    "y_test = y_test.astype(np.int8) #Converts the testing labels to \n",
    "#Creating Binary Labels\n",
    "y_train_2 = (y_train == 2)\n",
    "y_test_2 = (y_test == 2)"
   ]
  },
  {
   "cell_type": "code",
   "execution_count": 11,
   "id": "9e9ed3bc",
   "metadata": {},
   "outputs": [
    {
     "name": "stdout",
     "output_type": "stream",
     "text": [
      "The predicted digit is not '2'.\n"
     ]
    },
    {
     "name": "stderr",
     "output_type": "stream",
     "text": [
      "/Users/rajivbhandari/opt/anaconda3/lib/python3.9/site-packages/sklearn/linear_model/_logistic.py:814: ConvergenceWarning: lbfgs failed to converge (status=1):\n",
      "STOP: TOTAL NO. of ITERATIONS REACHED LIMIT.\n",
      "\n",
      "Increase the number of iterations (max_iter) or scale the data as shown in:\n",
      "    https://scikit-learn.org/stable/modules/preprocessing.html\n",
      "Please also refer to the documentation for alternative solver options:\n",
      "    https://scikit-learn.org/stable/modules/linear_model.html#logistic-regression\n",
      "  n_iter_i = _check_optimize_result(\n"
     ]
    }
   ],
   "source": [
    "# Train a logistic regression classifier\n",
    "clf = LogisticRegression(tol=0.1)\n",
    "clf.fit(x_train, y_train_2)\n",
    "\n",
    "# Predict whether the displayed digit is a '2' or not\n",
    "example = clf.predict([some_digit])\n",
    "if example:\n",
    "    print(\"The predicted digit is '2'.\")\n",
    "else:\n",
    "    print(\"The predicted digit is not '2'.\")"
   ]
  },
  {
   "cell_type": "code",
   "execution_count": 12,
   "id": "96644153-1278-49ee-8e1f-8486d375373d",
   "metadata": {},
   "outputs": [
    {
     "name": "stderr",
     "output_type": "stream",
     "text": [
      "/Users/rajivbhandari/opt/anaconda3/lib/python3.9/site-packages/sklearn/linear_model/_logistic.py:814: ConvergenceWarning: lbfgs failed to converge (status=1):\n",
      "STOP: TOTAL NO. of ITERATIONS REACHED LIMIT.\n",
      "\n",
      "Increase the number of iterations (max_iter) or scale the data as shown in:\n",
      "    https://scikit-learn.org/stable/modules/preprocessing.html\n",
      "Please also refer to the documentation for alternative solver options:\n",
      "    https://scikit-learn.org/stable/modules/linear_model.html#logistic-regression\n",
      "  n_iter_i = _check_optimize_result(\n",
      "/Users/rajivbhandari/opt/anaconda3/lib/python3.9/site-packages/sklearn/linear_model/_logistic.py:814: ConvergenceWarning: lbfgs failed to converge (status=1):\n",
      "STOP: TOTAL NO. of ITERATIONS REACHED LIMIT.\n",
      "\n",
      "Increase the number of iterations (max_iter) or scale the data as shown in:\n",
      "    https://scikit-learn.org/stable/modules/preprocessing.html\n",
      "Please also refer to the documentation for alternative solver options:\n",
      "    https://scikit-learn.org/stable/modules/linear_model.html#logistic-regression\n",
      "  n_iter_i = _check_optimize_result(\n"
     ]
    },
    {
     "name": "stdout",
     "output_type": "stream",
     "text": [
      "0.9784333333333333\n"
     ]
    },
    {
     "name": "stderr",
     "output_type": "stream",
     "text": [
      "/Users/rajivbhandari/opt/anaconda3/lib/python3.9/site-packages/sklearn/linear_model/_logistic.py:814: ConvergenceWarning: lbfgs failed to converge (status=1):\n",
      "STOP: TOTAL NO. of ITERATIONS REACHED LIMIT.\n",
      "\n",
      "Increase the number of iterations (max_iter) or scale the data as shown in:\n",
      "    https://scikit-learn.org/stable/modules/preprocessing.html\n",
      "Please also refer to the documentation for alternative solver options:\n",
      "    https://scikit-learn.org/stable/modules/linear_model.html#logistic-regression\n",
      "  n_iter_i = _check_optimize_result(\n"
     ]
    }
   ],
   "source": [
    "# Cross-validation to evaluate the classifier\n",
    "a = cross_val_score(clf, x_train, y_train_2, cv=3, scoring=\"accuracy\")\n",
    "print(a.mean())"
   ]
  },
  {
   "cell_type": "code",
   "execution_count": 13,
   "id": "588663df-39b1-41bc-9023-61c17ed3c638",
   "metadata": {},
   "outputs": [
    {
     "data": {
      "image/png": "[encoded data removed]",
      "text/plain": [
       "<Figure size 800x600 with 1 Axes>"
      ]
     },
     "metadata": {},
     "output_type": "display_data"
    }
   ],
   "source": [
    "# Plot a bar chart for accuracy\n",
    "plt.figure(figsize=(8, 6))\n",
    "sns.barplot(x=[f\"Fold {i+1}\" for i in range(3)], y=a)\n",
    "plt.title(\"Cross-Validation Accuracy\")\n",
    "plt.xlabel(\"Fold\")\n",
    "plt.ylabel(\"Accuracy\")\n",
    "plt.show()"
   ]
  },
  {
   "cell_type": "code",
   "execution_count": null,
   "id": "a8e093f6-39f8-4164-b90c-f2dcca4cec1f",
   "metadata": {},
   "outputs": [],
   "source": []
  }
 ],
 "metadata": {
  "kernelspec": {
   "display_name": "Python 3 (ipykernel)",
   "language": "python",
   "name": "python3"
  },
  "language_info": {
   "codemirror_mode": {
    "name": "ipython",
    "version": 3
   },
   "file_extension": ".py",
   "mimetype": "text/x-python",
   "name": "python",
   "nbconvert_exporter": "python",
   "pygments_lexer": "ipython3",
   "version": "3.9.7"
  }
 },
 "nbformat": 4,
 "nbformat_minor": 5
}
